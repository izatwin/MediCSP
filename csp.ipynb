{
 "cells": [
  {
   "cell_type": "code",
   "execution_count": 1,
   "metadata": {},
   "outputs": [],
   "source": [
    "import pandas as pd"
   ]
  },
  {
   "cell_type": "code",
   "execution_count": 2,
   "metadata": {},
   "outputs": [
    {
     "name": "stdout",
     "output_type": "stream",
     "text": [
      "Head of Indications\n",
      "             CID             Concept_Name\n",
      "0  CID100000085        Failure to Thrive\n",
      "1  CID100000085             Hypoglycemia\n",
      "2  CID100000085             Hypoglycemia\n",
      "3  CID100000085  Kidney Failure, Chronic\n",
      "4  CID100000085  Kidney Failure, Chronic\n"
     ]
    }
   ],
   "source": [
    "# loading the SIDER indiciations data\n",
    "indications = pd.read_csv('data/meddra_all_indications.tsv', sep='\\t') # drug indications contains which drug treats which symptom\n",
    "indications.columns = ['CID', 'Concept_Code', 'Source_Type', 'Concept_Name', 'Concept_Code_2', 'Concept_Name_2', 'Concept_Name_3']\n",
    "indications_filtered = indications[[\"CID\", \"Concept_Name\"]]\n",
    "print(\"Head of Indications\\n\", indications_filtered.head())"
   ]
  },
  {
   "cell_type": "code",
   "execution_count": 3,
   "metadata": {},
   "outputs": [
    {
     "name": "stdout",
     "output_type": "stream",
     "text": [
      "\n",
      "\n",
      "Head of Side effects\n",
      "             CID       Side_Effect_Name\n",
      "0  CID100000085         Abdominal pain\n",
      "1  CID100000085         Abdominal pain\n",
      "2  CID100000085  Gastrointestinal pain\n",
      "3  CID100000085         Abdominal pain\n",
      "4  CID100000085              Amblyopia\n"
     ]
    }
   ],
   "source": [
    "# loading the SIDER side effects data\n",
    "sideeffects = pd.read_csv('data/meddra_all_se.tsv', sep='\\t') # drug side effects contains which drug causes which symptom\n",
    "sideeffects.columns = ['CID', 'Drug_Identifier', 'MedDRA_Concept_ID', 'MedDRA_Concept_Type', 'MedDRA_Concept_ID_Type', 'Side_Effect_Name']\n",
    "sideeffects_filtered = sideeffects[[\"CID\", \"Side_Effect_Name\"]]\n",
    "print(\"\\n\\nHead of Side effects\\n\", sideeffects_filtered.head())"
   ]
  },
  {
   "cell_type": "code",
   "execution_count": 4,
   "metadata": {},
   "outputs": [
    {
     "name": "stdout",
     "output_type": "stream",
     "text": [
      "\n",
      "\n",
      "Head of Drug Names\n",
      "             CID                 Drug_name\n",
      "0  CID100000119        gamma-aminobutyric\n",
      "1  CID100000137          5-aminolevulinic\n",
      "2  CID100000143                leucovorin\n",
      "3  CID100000146  5-methyltetrahydrofolate\n",
      "4  CID100000158                      PGE2\n"
     ]
    }
   ],
   "source": [
    "drug_names  = pd.read_csv('data/drug_names.tsv', sep='\\t') # drug names contains the drug names and their respective IDs\n",
    "drug_names.columns = ['CID', 'Drug_name']\n",
    "print(\"\\n\\nHead of Drug Names\\n\", drug_names.head())"
   ]
  },
  {
   "cell_type": "code",
   "execution_count": 10,
   "metadata": {},
   "outputs": [
    {
     "name": "stdout",
     "output_type": "stream",
     "text": [
      "(222383, 5)\n",
      "(175201, 5)\n",
      "\n",
      "\n",
      "Head of DDI Data\n",
      "    DDInterID_A              Drug_A  DDInterID_B        Drug_B     Level\n",
      "0  DDInter1263          Naltrexone     DDInter1      Abacavir  Moderate\n",
      "1     DDInter1            Abacavir  DDInter1348      Orlistat  Moderate\n",
      "2    DDInter58  Aluminum hydroxide   DDInter582  Dolutegravir     Major\n",
      "3   DDInter112          Aprepitant   DDInter582  Dolutegravir     Minor\n",
      "4   DDInter138         Attapulgite   DDInter582  Dolutegravir     Major\n"
     ]
    }
   ],
   "source": [
    "'''\n",
    "loading DDInter data\n",
    "(1) A - Interaction involving alimentary tract and metabolism drugs\n",
    "(2) B - Interaction involving blood and blood forming organs drugs\n",
    "(3) D - Interaction involving dermatologicals drugs\n",
    "(4) H - Interaction involving systemic hormonal preparations, excluding sex hormones and insulins drugs\n",
    "(5) L - Interaction involving antineoplastic and immunomodulating agents drugs\n",
    "(6) P - Interaction involving antiparasitic products, insecticides and repellents drugs\n",
    "(7) R - Interaction involving respiratory system drugs \n",
    "(8) V - Interaction involving various drugs\n",
    "'''\n",
    "letters = ['A', 'B', 'D', 'H', 'L', 'P', 'R', 'V']\n",
    "ddi_dfs = []\n",
    "for letter in letters:\n",
    "    ddi_dfs.append(pd.read_csv(f'data/ddinter_downloads_code_{letter}.csv'))\n",
    "ddi_data = pd.concat(ddi_dfs)\n",
    "print(ddi_data.shape)\n",
    "ddi_data = ddi_data[ddi_data['Level'] != 'Unknown']\n",
    "print(ddi_data.shape)\n",
    "print(\"\\n\\nHead of DDI Data\\n\", ddi_data.head())"
   ]
  },
  {
   "cell_type": "code",
   "execution_count": null,
   "metadata": {},
   "outputs": [
    {
     "name": "stdout",
     "output_type": "stream",
     "text": [
      "14\n"
     ]
    }
   ],
   "source": [
    "# Get unique drugs from both Drug_A and Drug_B columns\n",
    "unique_drugs_A = ddi_data['Drug_A'].unique()\n",
    "unique_drugs_B = ddi_data['Drug_B'].unique()\n",
    "\n",
    "# Combine the unique drugs into a single set to avoid duplicates\n",
    "unique_drugs = set(unique_drugs_A).union(set(unique_drugs_B))\n",
    "print(len(unique_drugs))\n",
    "\n",
    "# Count how many of these drugs are in drug_names\n",
    "count = 0\n",
    "for drug in unique_drugs:\n",
    "    if drug in drug_names['Drug_name'].values:\n",
    "        count += 1\n",
    "\n",
    "print(count)"
   ]
  },
  {
   "cell_type": "code",
   "execution_count": null,
   "metadata": {},
   "outputs": [],
   "source": []
  }
 ],
 "metadata": {
  "kernelspec": {
   "display_name": "Python 3",
   "language": "python",
   "name": "python3"
  },
  "language_info": {
   "codemirror_mode": {
    "name": "ipython",
    "version": 3
   },
   "file_extension": ".py",
   "mimetype": "text/x-python",
   "name": "python",
   "nbconvert_exporter": "python",
   "pygments_lexer": "ipython3",
   "version": "3.11.1"
  }
 },
 "nbformat": 4,
 "nbformat_minor": 2
}
